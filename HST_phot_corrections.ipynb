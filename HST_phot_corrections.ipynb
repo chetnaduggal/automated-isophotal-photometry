{
 "cells": [
  {
   "cell_type": "code",
   "execution_count": 1,
   "metadata": {},
   "outputs": [],
   "source": [
    "import numpy as np\n",
    "import extinction"
   ]
  },
  {
   "cell_type": "code",
   "execution_count": 2,
   "metadata": {},
   "outputs": [],
   "source": [
    "#          **********     GALACTIC EXTINCTION      **********\n",
    "\n",
    "#                       Corrected mags = Observed mags - A_lambda\n"
   ]
  },
  {
   "cell_type": "code",
   "execution_count": 3,
   "metadata": {},
   "outputs": [],
   "source": [
    "#             A_V = E(B-V)* R_V    at   R_V = 3.1\n",
    "\n",
    "#        see  Ex_corr_mags.numbers file   -- sheet 1"
   ]
  },
  {
   "cell_type": "code",
   "execution_count": 4,
   "metadata": {},
   "outputs": [],
   "source": [
    "# Cardelli, Clayton & Mathis (1989) with R_V = 3.1\n",
    "# The claimed validity is 1250 Angstroms to 3.3 microns\n",
    "\n",
    "# extinction.ccm89(wave, 1.0, 3.1)  -- 'wave' in Angstroms\n",
    "\n",
    "#   ==> Outputs A_lambda i.e. Galactic extinction at given wavelength (in mags)"
   ]
  },
  {
   "cell_type": "code",
   "execution_count": 3,
   "metadata": {},
   "outputs": [],
   "source": [
    "class Targets:\n",
    "    def __init__(self,name,redshift,filter_lambda,A_v):\n",
    "        self.n = name\n",
    "        self.z = redshift\n",
    "        self.pivot = filter_lambda\n",
    "        self.Av = A_v\n"
   ]
  },
  {
   "cell_type": "code",
   "execution_count": 4,
   "metadata": {},
   "outputs": [],
   "source": [
    "# V-filter"
   ]
  },
  {
   "cell_type": "code",
   "execution_count": 5,
   "metadata": {},
   "outputs": [],
   "source": [
    "s1 = Targets('0258',0.017,6219.0,0.487)\n",
    "s2 = Targets('1014',0.536,8436.0,0.038)\n",
    "s3 = Targets('1025',0.361,7612.0,0.029)\n",
    "s4 = Targets('1037',0.091,6219.0,0.048)\n",
    "s5 = Targets('1128',0.404,7612.0,0.046)\n",
    "s6 = Targets('1201',0.445,8436.0,0.067)\n",
    "s7 = Targets('1203',0.371,7612.0,0.045)\n",
    "s8 = Targets('1221',0.171,6876.0,0.264)\n",
    "s9 = Targets('1445',0.195,6876.0,0.040)\n",
    "\n",
    "\n",
    "v_sources = [s1, s2, s3, s4, s5, s6, s7, s8, s9]\n"
   ]
  },
  {
   "cell_type": "code",
   "execution_count": 8,
   "metadata": {},
   "outputs": [
    {
     "name": "stdout",
     "output_type": "stream",
     "text": [
      "[0.42431587 0.02047336 0.01900195 0.04182169 0.03014102 0.03609777\n",
      " 0.02948578 0.20312478 0.03077648]\n"
     ]
    }
   ],
   "source": [
    "Rv = 3.1 \n",
    "\n",
    "temp_array = np.zeros(1)\n",
    "Gal_ext_v = np.zeros(len(v_sources))\n",
    "i = 0\n",
    "\n",
    "for s in v_sources:\n",
    "    wave = np.array([s.pivot])      # input 'wave' has to be a numpy 1-d array\n",
    "                                            # with input value as \"buffer\"/data parameter\n",
    "    temp_array[0] = extinction.ccm89(wave, s.Av, Rv)\n",
    "    Gal_ext_v[i] = temp_array[0]\n",
    "    #print (Gal_ext_v[i])\n",
    "    i = i+1\n",
    "\n",
    "    \n",
    "print (Gal_ext_v)\n"
   ]
  },
  {
   "cell_type": "code",
   "execution_count": 9,
   "metadata": {},
   "outputs": [],
   "source": [
    "# UV-filter"
   ]
  },
  {
   "cell_type": "code",
   "execution_count": 10,
   "metadata": {},
   "outputs": [],
   "source": [
    "s1 = Targets('0258',0.017,2359.0,0.487)\n",
    "s2 = Targets('1014',0.536,3355.0,0.038)\n",
    "s3 = Targets('1025',0.361,3355.0,0.029)\n",
    "s4 = Targets('1037',0.091,2359.0,0.048)\n",
    "s5 = Targets('1128',0.404,3355.0,0.046)\n",
    "s6 = Targets('1201',0.445,3355.0,0.067)\n",
    "s7 = Targets('1203',0.371,3355.0,0.045)\n",
    "s8 = Targets('1221',0.171,2704.0,0.264)\n",
    "s9 = Targets('1445',0.195,2704.0,0.040)\n",
    "\n",
    "uv_sources = [s1, s2, s3, s4, s5, s6, s7, s8, s9]"
   ]
  },
  {
   "cell_type": "code",
   "execution_count": 11,
   "metadata": {},
   "outputs": [
    {
     "name": "stdout",
     "output_type": "stream",
     "text": [
      "[1.2988725  0.06211234 0.04740152 0.12802029 0.07518863 0.10951387\n",
      " 0.07355409 0.53657846 0.08129977]\n"
     ]
    }
   ],
   "source": [
    "Rv = 3.1 \n",
    "\n",
    "temp_array = np.zeros(1)\n",
    "Gal_ext_uv = np.zeros(len(uv_sources))\n",
    "i = 0\n",
    "\n",
    "for s in uv_sources:\n",
    "    wave = np.array([s.pivot]) \n",
    "    temp_array[0] = extinction.ccm89(wave, s.Av, Rv)\n",
    "    Gal_ext_uv[i] = temp_array[0]\n",
    "    i = i+1\n",
    "    \n",
    "print (Gal_ext_uv)\n"
   ]
  },
  {
   "cell_type": "code",
   "execution_count": 11,
   "metadata": {},
   "outputs": [
    {
     "name": "stdout",
     "output_type": "stream",
     "text": [
      "[0.398468   0.03109196 0.02372807 0.03927405 0.03763763 0.05482003\n",
      " 0.03681942 0.21600729 0.03272838]\n"
     ]
    }
   ],
   "source": [
    "# Halpha   rest w= 6560 angst.\n",
    "\n",
    "sources = [s1, s2, s3, s4, s5, s6, s7, s8, s9]\n",
    "\n",
    "Rv = 3.1 \n",
    "wave = np.array([6560.]) \n",
    "Gal_ext_Ha = np.zeros(len(sources))\n",
    "i = 0\n",
    "\n",
    "for s in sources:\n",
    "    Gal_ext_Ha[i] = extinction.ccm89(wave, s.Av, Rv)\n",
    "    i = i+1\n",
    "\n",
    "    \n",
    "print (Gal_ext_Ha)   \n"
   ]
  },
  {
   "cell_type": "code",
   "execution_count": 12,
   "metadata": {},
   "outputs": [
    {
     "name": "stdout",
     "output_type": "stream",
     "text": [
      "[0.74969078 0.05849743 0.04464278 0.07389149 0.07081268 0.10314021\n",
      " 0.06927328 0.40640321 0.06157624]\n"
     ]
    }
   ],
   "source": [
    "# [OII]  rest w= 3726 angst.\n",
    "\n",
    "sources = [s1, s2, s3, s4, s5, s6, s7, s8, s9]\n",
    "\n",
    "Rv = 3.1 \n",
    "wave = np.array([3726.]) \n",
    "Gal_ext_OII = np.zeros(len(sources))\n",
    "i = 0\n",
    "\n",
    "for s in sources:\n",
    "    Gal_ext_OII[i] = extinction.ccm89(wave, s.Av, Rv)\n",
    "    i = i+1\n",
    "\n",
    "    \n",
    "print (Gal_ext_OII)   \n"
   ]
  },
  {
   "cell_type": "code",
   "execution_count": null,
   "metadata": {},
   "outputs": [],
   "source": []
  },
  {
   "cell_type": "code",
   "execution_count": null,
   "metadata": {},
   "outputs": [],
   "source": []
  },
  {
   "cell_type": "code",
   "execution_count": null,
   "metadata": {},
   "outputs": [],
   "source": [
    "#          **********     INTERNAL EXTINCTION      **********"
   ]
  },
  {
   "cell_type": "code",
   "execution_count": null,
   "metadata": {},
   "outputs": [],
   "source": [
    "#                       Corrected mags = Observed mags - A_lambda\n",
    "\n",
    "#        see  Ex_corr_mags.numbers file  -- sheet 2"
   ]
  },
  {
   "cell_type": "code",
   "execution_count": 3,
   "metadata": {},
   "outputs": [
    {
     "name": "stdout",
     "output_type": "stream",
     "text": [
      "0258 ->\n",
      "0.6646845638874692\n",
      "1025 ->\n",
      "0.5057757120573346\n",
      "1037 ->\n",
      "1.1321818333397609\n",
      "1128 ->\n",
      "2.4848360266564513\n",
      "1203 ->\n",
      "1.8414708829247328\n",
      "1221 ->\n",
      "0.8034515799059512\n",
      "1445 ->\n",
      "1.0613559824328875\n"
     ]
    }
   ],
   "source": [
    "Rth = 2.86\n",
    "k_alpha = 2.63\n",
    "k_beta = 3.71\n",
    "\n",
    "\n",
    "#   Robs = OBSERVED ratio of Halpha & Hbeta -- obtained from literature/spectral analysis\n",
    "Robs = {'0258': 5.54,'1025': 4.73,'1037': 8.82,'1128': 33.87,'1203' : 17.86,'1221' : 6.36,'1445' : 8.22}\n",
    "\n",
    "E_bvH = np.zeros(len(Robs))     # length of dict object\n",
    "i=0\n",
    "\n",
    "\n",
    "for value in Robs:\n",
    "    print(value, '->')\n",
    "    tempE_bvH = 0.0\n",
    "    tempE_bvH =  (2.5*np.log10(Rth/Robs[value]))/(k_alpha - k_beta)\n",
    "    E_bvH[i] = tempE_bvH\n",
    "    print(E_bvH[i])\n",
    "    i += 1\n",
    "      \n",
    "    "
   ]
  },
  {
   "cell_type": "code",
   "execution_count": 4,
   "metadata": {},
   "outputs": [
    {
     "name": "stdout",
     "output_type": "stream",
     "text": [
      "[2.06052215 1.56790471 3.50976368 7.70299168 5.70855974 2.4906999\n",
      " 3.29020355]\n"
     ]
    }
   ],
   "source": [
    "#    A_V_Ha/Hb = E(B-V)_Ha/Hb * R_V    at   R_V = 3.1\n",
    "\n",
    "R_v = 3.1\n",
    "\n",
    "Av_H = np.zeros(len(E_bvH))\n",
    "\n",
    "for i in range(len(E_bvH)):\n",
    "    Av_H[i] = E_bvH[i] * R_v\n",
    "    \n",
    "print(Av_H)"
   ]
  },
  {
   "cell_type": "code",
   "execution_count": 5,
   "metadata": {},
   "outputs": [],
   "source": [
    "#V-filter\n",
    "\n",
    "Av_HaHb = {'0258': 2.061,'1025': 1.568,'1037': 3.509,'1128': 7.703,\n",
    "           '1203' : 5.709,'1221' : 2.491,'1445' : 3.290}\n",
    "\n",
    "pivot_w = {'0258': 6219.0,'1025': 7612.0,'1037': 6219.0,'1128': 7612.0,\n",
    "           '1203' : 7612.0,'1221' : 6876.0,'1445' : 6876.0}"
   ]
  },
  {
   "cell_type": "code",
   "execution_count": 6,
   "metadata": {},
   "outputs": [
    {
     "name": "stdout",
     "output_type": "stream",
     "text": [
      "0258 ->\n",
      "1.7957186944896193\n",
      "1025 ->\n",
      "1.0274155165939078\n",
      "1037 ->\n",
      "3.0573395919282262\n",
      "1128 ->\n",
      "5.047309773165097\n",
      "1203 ->\n",
      "3.740762234843507\n",
      "1221 ->\n",
      "1.9166053610779155\n",
      "1445 ->\n",
      "2.5313655712349825\n"
     ]
    }
   ],
   "source": [
    "Rv = 3.1 \n",
    "\n",
    "#temp_array = np.zeros(1)\n",
    "Int_ext_v = np.zeros(7)\n",
    "i = 0\n",
    "\n",
    "for value in Av_HaHb:\n",
    "    print(value, '->')\n",
    "    wave = np.array([pivot_w[value]])    # make array with []\n",
    "    \n",
    "    #temp_array[0] = extinction.ccm89(wave, Av_HaHb[value], Rv)\n",
    "    #Int_ext_v[i] = temp_array[0]\n",
    "    \n",
    "    Int_ext_v[i] = extinction.ccm89(wave, Av_HaHb[value], Rv)\n",
    "    print(Int_ext_v[i])\n",
    "    i = i+1\n"
   ]
  },
  {
   "cell_type": "code",
   "execution_count": 7,
   "metadata": {},
   "outputs": [
    {
     "data": {
      "text/plain": [
       "dtype('float64')"
      ]
     },
     "execution_count": 7,
     "metadata": {},
     "output_type": "execute_result"
    }
   ],
   "source": [
    "wave.dtype"
   ]
  },
  {
   "cell_type": "code",
   "execution_count": null,
   "metadata": {},
   "outputs": [],
   "source": []
  },
  {
   "cell_type": "code",
   "execution_count": 15,
   "metadata": {},
   "outputs": [],
   "source": [
    "#UV-filter\n",
    "\n",
    "#Av -- same for both V and UV filters\n",
    "Av_HaHb = {'0258': 2.061, '1014': 0.00 ,'1025': 1.568,'1037': 3.509,'1128': 7.703, '1201': 0.00,\n",
    "           '1203' : 5.709,'1221' : 2.491,'1445' : 3.290}\n",
    "pivot_wuv = {'0258': 2359.0, '1014': 3355.0 ,'1025': 3355.0,'1037': 2359.0,\n",
    "             '1128': 3355.0, '1201': 3355.0 ,'1203' : 3355.0 ,'1221' : 2704.0, '1445': 2704.0}"
   ]
  },
  {
   "cell_type": "code",
   "execution_count": 16,
   "metadata": {},
   "outputs": [
    {
     "name": "stdout",
     "output_type": "stream",
     "text": [
      "0258 -> 5.496871096667985\n",
      "1014 -> 0.0\n",
      "1025 -> 2.5629513923922276\n",
      "1037 -> 9.358816437752528\n",
      "1128 -> 12.590825622192174\n",
      "1201 -> 0.0\n",
      "1203 -> 9.331562180591343\n",
      "1221 -> 5.062942994663483\n",
      "1445 -> 6.686905842008374\n"
     ]
    }
   ],
   "source": [
    "Rv = 3.1 \n",
    "\n",
    "Int_ext_uv = np.zeros(len(Av_HaHb))\n",
    "i = 0\n",
    "\n",
    "for value in Av_HaHb:\n",
    "    wave = np.array([pivot_wuv[value]])    # make array with []\n",
    "    Int_ext_uv[i] = extinction.ccm89(wave, Av_HaHb[value], Rv)\n",
    "    print(value, '->', Int_ext_uv[i])\n",
    "    i = i+1\n"
   ]
  },
  {
   "cell_type": "code",
   "execution_count": 14,
   "metadata": {},
   "outputs": [
    {
     "name": "stdout",
     "output_type": "stream",
     "text": [
      "[1.68632966 0.         1.28295241 2.87109693 6.30266734 0.\n",
      " 4.67115771 2.03815972 2.69190907]\n"
     ]
    }
   ],
   "source": [
    "# Halpha   rest w= 6560 angst.\n",
    "\n",
    "Av_HaHb = {'0258': 2.061, '1014': 0.00 ,'1025': 1.568,'1037': 3.509,'1128': 7.703, '1201': 0.00,\n",
    "           '1203' : 5.709,'1221' : 2.491,'1445' : 3.290}\n",
    "\n",
    "Rv = 3.1 \n",
    "wave = np.array([6560.]) \n",
    "Int_ext_Ha = np.zeros(9)\n",
    "i = 0\n",
    "\n",
    "for value in Av_HaHb:\n",
    "    Int_ext_Ha[i] = extinction.ccm89(wave, Av_HaHb[value], Rv)\n",
    "    i = i+1\n",
    "\n",
    "    \n",
    "print (Int_ext_Ha)   \n"
   ]
  },
  {
   "cell_type": "code",
   "execution_count": 16,
   "metadata": {},
   "outputs": [
    {
     "name": "stdout",
     "output_type": "stream",
     "text": [
      "[ 3.43453446  0.          2.61297915  5.84754072 12.83659338  0.\n",
      "  9.51371045  4.151104    5.48259019]\n"
     ]
    }
   ],
   "source": [
    "# [OII]  rest w= 3726 angst.\n",
    "\n",
    "Av_HaHb = {'0258': 2.061, '1014': 0.00 ,'1025': 1.568,'1037': 3.509,'1128': 7.703, '1201': 0.00,\n",
    "           '1203' : 5.709,'1221' : 2.491,'1445' : 3.290}\n",
    "\n",
    "Rv = 3.1 \n",
    "wave = np.array([3276.]) \n",
    "Int_ext_OII = np.zeros(9)\n",
    "i = 0\n",
    "\n",
    "for value in Av_HaHb:\n",
    "    Int_ext_OII[i] = extinction.ccm89(wave, Av_HaHb[value], Rv)\n",
    "    i = i+1\n",
    "\n",
    "    \n",
    "print (Int_ext_OII)   "
   ]
  },
  {
   "cell_type": "code",
   "execution_count": null,
   "metadata": {},
   "outputs": [],
   "source": []
  },
  {
   "cell_type": "code",
   "execution_count": null,
   "metadata": {},
   "outputs": [],
   "source": []
  },
  {
   "cell_type": "code",
   "execution_count": null,
   "metadata": {},
   "outputs": [],
   "source": [
    "#          **********     K - CORRECTION      **********"
   ]
  },
  {
   "cell_type": "code",
   "execution_count": null,
   "metadata": {},
   "outputs": [],
   "source": [
    "#         no need, corrected models for redshift already"
   ]
  }
 ],
 "metadata": {
  "kernelspec": {
   "display_name": "Python 3",
   "language": "python",
   "name": "python3"
  },
  "language_info": {
   "codemirror_mode": {
    "name": "ipython",
    "version": 3
   },
   "file_extension": ".py",
   "mimetype": "text/x-python",
   "name": "python",
   "nbconvert_exporter": "python",
   "pygments_lexer": "ipython3",
   "version": "3.6.13"
  }
 },
 "nbformat": 4,
 "nbformat_minor": 4
}
