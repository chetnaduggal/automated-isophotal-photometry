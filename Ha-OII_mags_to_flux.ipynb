{
 "cells": [
  {
   "cell_type": "code",
   "execution_count": 1,
   "id": "stopped-tomato",
   "metadata": {},
   "outputs": [],
   "source": [
    "import numpy as np\n",
    "import math"
   ]
  },
  {
   "cell_type": "code",
   "execution_count": 2,
   "id": "designed-career",
   "metadata": {},
   "outputs": [],
   "source": [
    "# Converting flux units to mags -- Halpha, OII mags"
   ]
  },
  {
   "cell_type": "code",
   "execution_count": 3,
   "id": "painted-situation",
   "metadata": {},
   "outputs": [],
   "source": [
    "class targets:\n",
    "    def __init__(self,name,Ha_flux,OII_flux):\n",
    "        self.n = name\n",
    "        self.HaFl = Ha_flux\n",
    "        self.OFl = OII_flux\n",
    "\n",
    "s1 = targets('1025+390',1.50e-15,2.13e-15)\n",
    "s2 = targets('1037+30',4.86e-15,6.39e-15)\n",
    "s3 = targets('1128+455',2.50e-15,7.15e-16)\n",
    "s4 = targets('1201+394',np.nan,2.61e-16)    # no Ha-flux available\n",
    "s5 = targets('1203+645',9.72e-15,9.93e-16)\n",
    "s6 = targets('1221-423',1.38e-15,3.70e-15)\n",
    "\n",
    "sources = [s1, s2, s3, s4, s5, s6]"
   ]
  },
  {
   "cell_type": "code",
   "execution_count": 5,
   "id": "informational-lightweight",
   "metadata": {},
   "outputs": [
    {
     "name": "stdout",
     "output_type": "stream",
     "text": [
      "\n",
      "Source: 1025+390 \n",
      " Ha-mag = 25.11 \t OII-mag = 25.34\n",
      "\n",
      "Source: 1037+30 \n",
      " Ha-mag = 23.83 \t OII-mag = 24.15\n",
      "\n",
      "Source: 1128+455 \n",
      " Ha-mag = 24.56 \t OII-mag = 26.53\n",
      "\n",
      "Source: 1201+394 \n",
      " Ha-mag = nan \t OII-mag = 27.62\n",
      "\n",
      "Source: 1203+645 \n",
      " Ha-mag = 23.08 \t OII-mag = 26.17\n",
      "\n",
      "Source: 1221-423 \n",
      " Ha-mag = 25.2 \t OII-mag = 24.74\n"
     ]
    }
   ],
   "source": [
    "c = 3.0e18  #angstrom/sec\n",
    "\n",
    "for s in sources:\n",
    "\n",
    "    lambda_Ha = 6560.0       #angstrom\n",
    "    lambda_OII = 3726.0\n",
    "    \n",
    "    #convert to FLAM\n",
    "    Ha_Flambda = s.HaFl/lambda_Ha         \n",
    "    OII_Flambda = s.OFl/lambda_OII \n",
    "    \n",
    "    #convert to Fnu\n",
    "    Fnu_Ha = Ha_Flambda * (lambda_Ha**2 / c)    \n",
    "    Fnu_OII = OII_Flambda * (lambda_OII**2 / c)\n",
    "    \n",
    "    #convert to AB mags\n",
    "    mag_Ha = -2.5 * (np.log10(Fnu_Ha)) - 48.6\n",
    "    mag_OII = -2.5 * (np.log10(Fnu_OII)) - 48.6\n",
    "\n",
    "    print('\\nSource:', s.n, '\\n Ha-mag =', np.round(mag_Ha, 2), '\\t', 'OII-mag =', np.round(mag_OII,2))\n",
    "    "
   ]
  },
  {
   "cell_type": "code",
   "execution_count": null,
   "id": "professional-valentine",
   "metadata": {},
   "outputs": [],
   "source": []
  },
  {
   "cell_type": "code",
   "execution_count": 5,
   "id": "original-arthur",
   "metadata": {},
   "outputs": [],
   "source": [
    "# Converting mags to flux (FLAM) units -- HST/uv, Halpha, OII mags"
   ]
  },
  {
   "cell_type": "code",
   "execution_count": 6,
   "id": "neutral-reason",
   "metadata": {},
   "outputs": [],
   "source": [
    "#    Gal-corrected corrected mags    (no Internal-ext corr)\n",
    "\n",
    "class targets:\n",
    "    def __init__(self,name,v_mag, uv_mag,Ha_mag,OII_mag):\n",
    "        self.n = name\n",
    "        self.vMag = v_mag\n",
    "        self.uvMag = uv_mag\n",
    "        self.HaMag = Ha_mag\n",
    "        self.OMag = OII_mag\n",
    "\n",
    "# source, HST/v, HST/uv, Halpha, OII mags\n",
    "\n",
    "s1 = targets('1025+390',18.27,22.66,25.09,25.30)\n",
    "s2 = targets('1037+30',16.05,19.85,23.79,24.08)\n",
    "s3 = targets('1128+455',19.54,22.91,24.52,26.46)\n",
    "s4 = targets('1201+394',19.68,24.57,np.nan,27.52)    # no Ha-flux available\n",
    "s5 = targets('1203+645',20.33,22.74,23.04,26.10)\n",
    "s6 = targets('1221-423',17.75,19.45,24.98,24.33)\n",
    "\n",
    "sources = [s1, s2, s3, s4, s5, s6]\n"
   ]
  },
  {
   "cell_type": "code",
   "execution_count": 7,
   "id": "a9988155",
   "metadata": {},
   "outputs": [
    {
     "name": "stdout",
     "output_type": "stream",
     "text": [
      "\n",
      "Source: 1025+390 \n",
      " v-FLAM = 9.25e-17\n",
      "\n",
      "Source: 1037+30 \n",
      " v-FLAM = 7.15e-16\n",
      "\n",
      "Source: 1128+455 \n",
      " v-FLAM = 2.87e-17\n",
      "\n",
      "Source: 1201+394 \n",
      " v-FLAM = 2.52e-17\n",
      "\n",
      "Source: 1203+645 \n",
      " v-FLAM = 1.39e-17\n",
      "\n",
      "Source: 1221-423 \n",
      " v-FLAM = 1.49e-16\n"
     ]
    }
   ],
   "source": [
    "c = 3.0e18  #angstrom/sec\n",
    "\n",
    "for s in sources:\n",
    "\n",
    "    Fnu_v = 10**(-(s.vMag + 48.6)/2.5)\n",
    "    \n",
    "    \n",
    "    if s.n == '1037':\n",
    "        fiter_efflambda = 6219.0\n",
    "    elif s.n == '1221':\n",
    "        filter_efflambda = 6876.0\n",
    "    elif s.n == '1203':\n",
    "        filter_efflambda = 8436.0\n",
    "    else:\n",
    "        filter_efflambda = 7612.0\n",
    "      \n",
    "    Flambda_v = Fnu_v * c / filter_efflambda**2\n",
    "    \n",
    "    print('\\nSource:', s.n, '\\n v-FLAM =', '{:.2e}'.format(Flambda_v))\n"
   ]
  },
  {
   "cell_type": "code",
   "execution_count": 8,
   "id": "clear-strip",
   "metadata": {},
   "outputs": [
    {
     "name": "stdout",
     "output_type": "stream",
     "text": [
      "\n",
      "Source: 1025+390 \n",
      " uv-FLAM = 8.32e-18\n",
      "\n",
      "Source: 1037+30 \n",
      " uv-FLAM = 1.11e-16\n",
      "\n",
      "Source: 1128+455 \n",
      " uv-FLAM = 6.61e-18\n",
      "\n",
      "Source: 1201+394 \n",
      " uv-FLAM = 1.43e-18\n",
      "\n",
      "Source: 1203+645 \n",
      " uv-FLAM = 7.73e-18\n",
      "\n",
      "Source: 1221-423 \n",
      " uv-FLAM = 1.60e-16\n"
     ]
    }
   ],
   "source": [
    "c = 3.0e18  #angstrom/sec\n",
    "\n",
    "for s in sources:\n",
    "\n",
    "    Fnu_uv = 10**(-(s.uvMag + 48.6)/2.5)\n",
    "    \n",
    "    \n",
    "    if s.n == '1037':\n",
    "        fiter_efflambda = 2341.0\n",
    "    elif s.n == '1221':\n",
    "        filter_efflambda = 2715.3\n",
    "    else:\n",
    "        filter_efflambda = 3361.1\n",
    "      \n",
    "    Flambda_uv = Fnu_uv * c / filter_efflambda**2\n",
    "    \n",
    "    print('\\nSource:', s.n, '\\n uv-FLAM =', '{:.2e}'.format(Flambda_uv))\n"
   ]
  },
  {
   "cell_type": "code",
   "execution_count": 9,
   "id": "greenhouse-integration",
   "metadata": {},
   "outputs": [
    {
     "data": {
      "text/plain": [
       "73.44193817878028"
      ]
     },
     "execution_count": 9,
     "metadata": {},
     "output_type": "execute_result"
    }
   ],
   "source": [
    "#  UV: observed flux / Model flux => SFR at 10 Myr epoch (continuous)\n",
    "\n",
    "8.791e-17/1.197e-18"
   ]
  },
  {
   "cell_type": "code",
   "execution_count": null,
   "id": "sought-loading",
   "metadata": {},
   "outputs": [],
   "source": []
  },
  {
   "cell_type": "code",
   "execution_count": 10,
   "id": "voluntary-cookie",
   "metadata": {},
   "outputs": [
    {
     "name": "stdout",
     "output_type": "stream",
     "text": [
      "\n",
      "Source: 1025+390 \n",
      " Ha-FLAM = 2.33e-19 \t OII-FLAM = 5.95e-19\n",
      "\n",
      "Source: 1037+30 \n",
      " Ha-FLAM = 7.71e-19 \t OII-FLAM = 1.83e-18\n",
      "\n",
      "Source: 1128+455 \n",
      " Ha-FLAM = 3.94e-19 \t OII-FLAM = 2.04e-19\n",
      "\n",
      "Source: 1201+394 \n",
      " Ha-FLAM = nan \t OII-FLAM = 7.70e-20\n",
      "\n",
      "Source: 1203+645 \n",
      " Ha-FLAM = 1.54e-18 \t OII-FLAM = 2.85e-19\n",
      "\n",
      "Source: 1221-423 \n",
      " Ha-FLAM = 2.58e-19 \t OII-FLAM = 1.45e-18\n"
     ]
    }
   ],
   "source": [
    "# FLAM units for Halpha & OII\n",
    "\n",
    "c = 3.0e18  #angstrom/sec\n",
    "\n",
    "for s in sources:\n",
    "\n",
    "    Fnu_Ha = 10**(-(s.HaMag + 48.6)/2.5)\n",
    "    Fnu_OII = 10**(-(s.OMag + 48.6)/2.5)\n",
    "    \n",
    "    lambda_Ha = 6560.0       #angstrom\n",
    "    lambda_OII = 3726.0\n",
    "    \n",
    "    # in FLAM units \n",
    "    Flambda_Ha = Fnu_Ha * c / lambda_Ha**2\n",
    "    Flambda_OII = Fnu_OII * c / lambda_OII**2\n",
    " \n",
    "    print('\\nSource:', s.n, '\\n Ha-FLAM =', '{:.2e}'.format(Flambda_Ha), \n",
    "          '\\t', 'OII-FLAM =', '{:.2e}'.format(Flambda_OII))\n",
    "    \n",
    "    #print('{:.2e}'.format(Fnu_Ha), \n",
    "    #      '\\t', '{:.2e}'.format(Fnu_OII))"
   ]
  },
  {
   "cell_type": "code",
   "execution_count": 13,
   "id": "continuing-server",
   "metadata": {},
   "outputs": [
    {
     "name": "stdout",
     "output_type": "stream",
     "text": [
      "\n",
      "Source: 1025+390 \n",
      " Ha-flux = 1.53e-15 \t OII-flux = 2.22e-15\n",
      "\n",
      "Source: 1037+30 \n",
      " Ha-flux = 5.06e-15 \t OII-flux = 6.82e-15\n",
      "\n",
      "Source: 1128+455 \n",
      " Ha-flux = 2.58e-15 \t OII-flux = 7.62e-16\n",
      "\n",
      "Source: 1201+394 \n",
      " Ha-flux = nan \t OII-flux = 2.87e-16\n",
      "\n",
      "Source: 1203+645 \n",
      " Ha-flux = 1.01e-14 \t OII-flux = 1.06e-15\n",
      "\n",
      "Source: 1221-423 \n",
      " Ha-flux = 1.69e-15 \t OII-flux = 5.42e-15\n"
     ]
    }
   ],
   "source": [
    "# Converting FLAM to flux units fro Halpha & OII\n",
    "\n",
    "c = 3.0e18  #angstrom/sec\n",
    "\n",
    "for s in sources:\n",
    "\n",
    "    Fnu_Ha = 10**(-(s.HaMag + 48.6)/2.5)\n",
    "    Fnu_OII = 10**(-(s.OMag + 48.6)/2.5)\n",
    "    \n",
    "    lambda_Ha = 6560.0       #angstrom\n",
    "    lambda_OII = 3726.0\n",
    "    \n",
    "    # simply in ergs/sec/cm^2 .... NOT in FLAM units \n",
    "    Flambda_Ha = Fnu_Ha * c / lambda_Ha\n",
    "    Flambda_OII = Fnu_OII * c / lambda_OII\n",
    " \n",
    "    print('\\nSource:', s.n, '\\n Ha-flux =', '{:.2e}'.format(Flambda_Ha), \n",
    "          '\\t', 'OII-flux =', '{:.2e}'.format(Flambda_OII))\n",
    "    \n",
    "    "
   ]
  },
  {
   "cell_type": "code",
   "execution_count": null,
   "id": "actual-utility",
   "metadata": {},
   "outputs": [],
   "source": []
  },
  {
   "cell_type": "code",
   "execution_count": 14,
   "id": "f161ed00",
   "metadata": {},
   "outputs": [
    {
     "name": "stdout",
     "output_type": "stream",
     "text": [
      "\n",
      "Source: 1025+390\n",
      "\n",
      " g-FLAM = 6.80e-17 \t r-FLAM = 1.09e-16\n"
     ]
    }
   ],
   "source": [
    "#panstarrs\n",
    "\n",
    "def pan(pan_AB, efflambda):\n",
    "    pan_Fnu = 10**(-(pan_AB + 48.6)/2.5)\n",
    "    pan_Flambda = pan_Fnu * 3.0e18 / efflambda**2\n",
    "    \n",
    "    return pan_Flambda\n",
    "\n",
    "\n",
    "pan_gAB = 19.60\n",
    "pan_rAB = 18.55\n",
    "g_efflambda = 4810.9\n",
    "r_efflambda = 6156.3\n",
    "\n",
    "print('\\nSource: 1025+390')\n",
    "print('\\n g-FLAM =', '{:.2e}'.format(pan(pan_gAB, g_efflambda)), \n",
    "      '\\t', 'r-FLAM =', '{:.2e}'.format(pan(pan_rAB, r_efflambda)))"
   ]
  },
  {
   "cell_type": "code",
   "execution_count": null,
   "id": "b0d12fbe",
   "metadata": {},
   "outputs": [],
   "source": []
  }
 ],
 "metadata": {
  "kernelspec": {
   "display_name": "Python 3 (ipykernel)",
   "language": "python",
   "name": "python3"
  },
  "language_info": {
   "codemirror_mode": {
    "name": "ipython",
    "version": 3
   },
   "file_extension": ".py",
   "mimetype": "text/x-python",
   "name": "python",
   "nbconvert_exporter": "python",
   "pygments_lexer": "ipython3",
   "version": "3.7.16"
  }
 },
 "nbformat": 4,
 "nbformat_minor": 5
}
